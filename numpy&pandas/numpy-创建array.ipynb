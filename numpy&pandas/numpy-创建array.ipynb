{
 "cells": [
  {
   "cell_type": "code",
   "execution_count": 1,
   "metadata": {},
   "outputs": [
    {
     "name": "stdout",
     "output_type": "stream",
     "text": [
      "[ 2 23  4]\n"
     ]
    }
   ],
   "source": [
    "import numpy as np\n",
    "\n",
    "a=np.array([2,23,4]) #array元素之间用空格隔开\n",
    "print(a) #array元素之间用空格隔开，和列表不同（用逗号隔开）"
   ]
  },
  {
   "cell_type": "code",
   "execution_count": 6,
   "metadata": {},
   "outputs": [
    {
     "name": "stdout",
     "output_type": "stream",
     "text": [
      "int32\n",
      "float64\n"
     ]
    }
   ],
   "source": [
    " #可在创建时定义array的type（整数型，浮点型等）\n",
    "a1=np.array([2,3,4],dtype=np.int) #整数型 np.int64\n",
    "print(a1.dtype)\n",
    "\n",
    "a2=np.array([2,3,4],dtype=np.float) #浮点型 np.float32\n",
    "print(a2.dtype)"
   ]
  },
  {
   "cell_type": "code",
   "execution_count": 7,
   "metadata": {},
   "outputs": [
    {
     "name": "stdout",
     "output_type": "stream",
     "text": [
      "[[1 2 3]\n",
      " [4 5 6]]\n"
     ]
    }
   ],
   "source": [
    "#定义矩阵\n",
    "a=np.array([[1,2,3],[4,5,6]])\n",
    "print(a)"
   ]
  },
  {
   "cell_type": "code",
   "execution_count": 17,
   "metadata": {},
   "outputs": [
    {
     "name": "stdout",
     "output_type": "stream",
     "text": [
      "[[0. 0. 0. 0.]\n",
      " [0. 0. 0. 0.]\n",
      " [0. 0. 0. 0.]]\n",
      "[[1 1 1]\n",
      " [1 1 1]]\n",
      "[[0. 0. 0. 0.]\n",
      " [0. 0. 0. 0.]\n",
      " [0. 0. 0. 0.]]\n",
      "[10 12 14 16 18]\n",
      "[[ 0  1  2  3]\n",
      " [ 4  5  6  7]\n",
      " [ 8  9 10 11]]\n",
      "[ 1.    3.25  5.5   7.75 10.  ]\n",
      "[[ 1.   2.8  4.6]\n",
      " [ 6.4  8.2 10. ]]\n"
     ]
    }
   ],
   "source": [
    "#定义特殊矩阵\n",
    "a=np.zeros((3,4)) #定义三行四列的零矩阵\n",
    "print(a)\n",
    "\n",
    "b=np.ones((2,3),dtype=np.int16) #定义2行3列的单位矩阵\n",
    "print(b)\n",
    "\n",
    "c=np.empty((3,4)) #定义空矩阵\n",
    "print(c)\n",
    "\n",
    "d=np.arange(10,20,2) #生成有序矩阵：起始值是10，终止值是20（不等于20），步长是2\n",
    "print(d)\n",
    "d2=np.arange(12).reshape((3,4)) #生成从0到11的3行4列矩阵\n",
    "print(d2)\n",
    "\n",
    "#生成线段\n",
    "e=np.linspace(1,10,5) #从1到10生成5段的数列\n",
    "print(e)\n",
    "e2=np.linspace(1,10,6).reshape((2,3)) #更改形状：2行3列矩阵\n",
    "print(e2)"
   ]
  },
  {
   "cell_type": "code",
   "execution_count": null,
   "metadata": {},
   "outputs": [],
   "source": []
  }
 ],
 "metadata": {
  "kernelspec": {
   "display_name": "Python 3",
   "language": "python",
   "name": "python3"
  },
  "language_info": {
   "codemirror_mode": {
    "name": "ipython",
    "version": 3
   },
   "file_extension": ".py",
   "mimetype": "text/x-python",
   "name": "python",
   "nbconvert_exporter": "python",
   "pygments_lexer": "ipython3",
   "version": "3.7.6"
  }
 },
 "nbformat": 4,
 "nbformat_minor": 4
}
