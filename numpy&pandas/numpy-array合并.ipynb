{
 "cells": [
  {
   "cell_type": "code",
   "execution_count": 9,
   "metadata": {},
   "outputs": [
    {
     "name": "stdout",
     "output_type": "stream",
     "text": [
      "[[1 1 1]\n",
      " [2 2 2]]\n",
      "[1 1 1 2 2 2]\n",
      "[1 1 1]\n",
      "[[1 1 1]]\n",
      "[[1]\n",
      " [1]\n",
      " [1]]\n"
     ]
    }
   ],
   "source": [
    "import numpy as np\n",
    "\n",
    "A=np.array([1,1,1])\n",
    "B=np.array([2,2,2])\n",
    "\n",
    "print(np.vstack((A,B))) #上下合并 vertical垂直合并\n",
    "\n",
    "print(np.hstack((A,B))) #左右合并 horizontal水平合并\n",
    "\n",
    "print(A.T) #定义的是数组,不是矩阵，转置不了\n",
    "print(A[np.newaxis,:]) #给数组A添加维度，此时变成了一维矩阵1*3：向量\n",
    "print(A[:,np.newaxis]) #变成了3*1的矩阵"
   ]
  },
  {
   "cell_type": "code",
   "execution_count": 14,
   "metadata": {},
   "outputs": [
    {
     "name": "stdout",
     "output_type": "stream",
     "text": [
      "[[1]\n",
      " [1]\n",
      " [1]\n",
      " [2]\n",
      " [2]\n",
      " [2]\n",
      " [2]\n",
      " [2]\n",
      " [2]\n",
      " [1]\n",
      " [1]\n",
      " [1]]\n"
     ]
    }
   ],
   "source": [
    "#先将array添加维度，不然没有axis=1这个维度\n",
    "A=np.array([1,1,1])[:,np.newaxis]\n",
    "B=np.array([2,2,2])[:,np.newaxis]\n",
    "\n",
    "C=np.concatenate((A,B,B,A),axis=0) #多个array合并，同时可指定哪个方向上\n",
    "#axis=0,对行操作（增加行），垂直合并\n",
    "#axis=1,对列操作（增加列），水平合并\n",
    "print(C)"
   ]
  },
  {
   "cell_type": "code",
   "execution_count": null,
   "metadata": {},
   "outputs": [],
   "source": []
  }
 ],
 "metadata": {
  "kernelspec": {
   "display_name": "Python 3",
   "language": "python",
   "name": "python3"
  },
  "language_info": {
   "codemirror_mode": {
    "name": "ipython",
    "version": 3
   },
   "file_extension": ".py",
   "mimetype": "text/x-python",
   "name": "python",
   "nbconvert_exporter": "python",
   "pygments_lexer": "ipython3",
   "version": "3.7.6"
  }
 },
 "nbformat": 4,
 "nbformat_minor": 4
}
