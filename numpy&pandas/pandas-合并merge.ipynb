{
 "cells": [
  {
   "cell_type": "code",
   "execution_count": 5,
   "metadata": {},
   "outputs": [
    {
     "name": "stdout",
     "output_type": "stream",
     "text": [
      "  key   A   B\n",
      "0  K0  A0  B0\n",
      "1  K1  A1  B1\n",
      "2  K2  A2  B2\n",
      "3  K3  A3  B3\n",
      "  key   C   D\n",
      "0  K0  C0  D0\n",
      "1  K1  C1  D1\n",
      "2  K2  C2  D2\n",
      "3  K3  C3  D3\n",
      "  key   A   B   C   D\n",
      "0  K0  A0  B0  C0  D0\n",
      "1  K1  A1  B1  C1  D1\n",
      "2  K2  A2  B2  C2  D2\n",
      "3  K3  A3  B3  C3  D3\n"
     ]
    }
   ],
   "source": [
    "#concat相对于merge，是一种比较简单的合并\n",
    "#maerge在考虑索引或者key的对照下，实现DataFrame的合并\n",
    "import pandas as pd\n",
    "import numpy as np\n",
    "\n",
    "#merge two df by key/keys（maybe used in database）\n",
    "#simple example\n",
    "left=pd.DataFrame({'key':['K0','K1','K2','K3'],\n",
    "                  'A':['A0','A1','A2','A3'],\n",
    "                  'B':['B0','B1','B2','B3']})\n",
    "right=pd.DataFrame({'key':['K0','K1','K2','K3'],\n",
    "                  'C':['C0','C1','C2','C3'],\n",
    "                  'D':['D0','D1','D2','D3']})\n",
    "print(left)\n",
    "print(right)\n",
    "res=pd.merge(left,right,on='key') #on='key'基于key列合并\n",
    "print(res)"
   ]
  },
  {
   "cell_type": "code",
   "execution_count": 10,
   "metadata": {},
   "outputs": [
    {
     "name": "stdout",
     "output_type": "stream",
     "text": [
      "  key1 key2   A   B\n",
      "0   K0   K0  A0  B0\n",
      "1   K0   K1  A1  B1\n",
      "2   K1   K0  A2  B2\n",
      "3   K2   K1  A3  B3\n",
      "  key1 key2   C   D\n",
      "0   K0   K0  C0  D0\n",
      "1   K1   K0  C1  D1\n",
      "2   K1   K0  C2  D2\n",
      "3   K2   K0  C3  D3\n",
      "  key1 key2    A    B   C   D\n",
      "0   K0   K0   A0   B0  C0  D0\n",
      "1   K1   K0   A2   B2  C1  D1\n",
      "2   K1   K0   A2   B2  C2  D2\n",
      "3   K2   K0  NaN  NaN  C3  D3\n"
     ]
    }
   ],
   "source": [
    "#merge two df by key/keys (maybe used in database)\n",
    "#consider two keys\n",
    "left=pd.DataFrame({'key1':['K0','K0','K1','K2'],\n",
    "                   'key2':['K0','K1','K0','K1'],\n",
    "                  'A':['A0','A1','A2','A3'],\n",
    "                  'B':['B0','B1','B2','B3']})\n",
    "right=pd.DataFrame({'key1':['K0','K1','K1','K2'],\n",
    "                    'key2':['K0','K0','K0','K0'],\n",
    "                  'C':['C0','C1','C2','C3'],\n",
    "                  'D':['D0','D1','D2','D3']})\n",
    "print(left)\n",
    "print(right)\n",
    "#how=['left','right','inner','outer']\n",
    "res1=pd.merge(left,right,on=['key1','key2']) #how默认为inner，合并后保留相同的部分\n",
    "#在left中‘K1,K0’只有一组对应‘A2,B2’，但right有两组‘K1,K0’,所以‘A2,B2’出现了两遍\n",
    "res2=pd.merge(left,right,on=['key1','key2'],how='right') #基于right的keys合并（即right的keys全保留）\n",
    "print(res2)"
   ]
  },
  {
   "cell_type": "code",
   "execution_count": 13,
   "metadata": {},
   "outputs": [
    {
     "name": "stdout",
     "output_type": "stream",
     "text": [
      "   col1 col_left\n",
      "0     0        a\n",
      "1     1        b\n",
      "   col1  col_right\n",
      "0     1          2\n",
      "1     2          2\n",
      "2     2          2\n",
      "   col1 col_left  col_right      _merge\n",
      "0     0        a        NaN   left_only\n",
      "1     1        b        2.0        both\n",
      "2     2      NaN        2.0  right_only\n",
      "3     2      NaN        2.0  right_only\n",
      "   col1 col_left  col_right indicator_column\n",
      "0     0        a        NaN        left_only\n",
      "1     1        b        2.0             both\n",
      "2     2      NaN        2.0       right_only\n",
      "3     2      NaN        2.0       right_only\n"
     ]
    }
   ],
   "source": [
    "#merge two df by key/keys (maybe used in database)\n",
    "#indicator\n",
    "df1=pd.DataFrame({'col1':[0,1],'col_left':['a','b']})\n",
    "df2=pd.DataFrame({'col1':[1,2,2],'col_right':[2,2,2]})\n",
    "print(df1)\n",
    "print(df2)\n",
    "res=pd.merge(df1,df2,on='col1',how='outer',indicator=True) \n",
    "#indicator会显示每行merge的方式，indicator默认为False\n",
    "print(res)\n",
    "#显示结果多了label是‘merge’的一列，其中为left_only表示只有左边有数据，右边没有数据\n",
    "#merge（x,y）,x是左边，y是右边\n",
    "\n",
    "#将indicator默认的列名‘merge’，改为自定义的\n",
    "res1=pd.merge(df1,df2,on='col1',how='outer',indicator='indicator_column') \n",
    "print(res1)"
   ]
  },
  {
   "cell_type": "code",
   "execution_count": 20,
   "metadata": {},
   "outputs": [
    {
     "name": "stdout",
     "output_type": "stream",
     "text": [
      "     A   B\n",
      "K0  A0  B0\n",
      "K1  A1  B1\n",
      "K2  A2  B2\n",
      "     C   D\n",
      "K0  C0  D0\n",
      "K2  C1  D1\n",
      "K3  C2  D2\n",
      "      A    B    C    D\n",
      "K0   A0   B0   C0   D0\n",
      "K1   A1   B1  NaN  NaN\n",
      "K2   A2   B2   C1   D1\n",
      "K3  NaN  NaN   C2   D2\n"
     ]
    }
   ],
   "source": [
    "#merge by index\n",
    "left=pd.DataFrame({'A':['A0','A1','A2'],\n",
    "                  'B':['B0','B1','B2']},\n",
    "                  index=['K0','K1','K2'])\n",
    "right=pd.DataFrame({ 'C':['C0','C1','C2'],\n",
    "                  'D':['D0','D1','D2']},\n",
    "                  index=['K0','K2','K3'])\n",
    "print(left)\n",
    "print(right)\n",
    "\n",
    "#left_index和right_index,默认值都是False\n",
    "#当把他们都设为True时，表示不再根据列中的‘key’进行合并，而是调转方向，根据行名来merge\n",
    "res1=pd.merge(left,right,left_index=True,right_index=True,how='outer')\n",
    "print(res1)\n"
   ]
  },
  {
   "cell_type": "code",
   "execution_count": 24,
   "metadata": {},
   "outputs": [
    {
     "name": "stdout",
     "output_type": "stream",
     "text": [
      "    k  age\n",
      "0  K0    1\n",
      "1  K1    2\n",
      "2  K2    3\n",
      "    k  age\n",
      "0  K0    4\n",
      "1  K0    5\n",
      "2  K3    6\n",
      "    k  age_boy  age_girl\n",
      "0  K0      1.0       4.0\n",
      "1  K0      1.0       5.0\n",
      "2  K1      2.0       NaN\n",
      "3  K2      3.0       NaN\n",
      "4  K3      NaN       6.0\n"
     ]
    }
   ],
   "source": [
    "#处理overlapping\n",
    "boys=pd.DataFrame({'k':['K0','K1','K2'],'age':[1,2,3]})\n",
    "girls=pd.DataFrame({'k':['K0','K0','K3'],'age':[4,5,6]})\n",
    "print(boys)\n",
    "print(girls)\n",
    "#'age'该列名重复\n",
    "res=pd.merge(boys,girls,on='k',suffixes=['_boy','_girl'],how='outer')\n",
    "#suffixes修改列名（加后缀）\n",
    "print(res)"
   ]
  },
  {
   "cell_type": "code",
   "execution_count": null,
   "metadata": {},
   "outputs": [],
   "source": []
  }
 ],
 "metadata": {
  "kernelspec": {
   "display_name": "Python 3",
   "language": "python",
   "name": "python3"
  },
  "language_info": {
   "codemirror_mode": {
    "name": "ipython",
    "version": 3
   },
   "file_extension": ".py",
   "mimetype": "text/x-python",
   "name": "python",
   "nbconvert_exporter": "python",
   "pygments_lexer": "ipython3",
   "version": "3.7.6"
  }
 },
 "nbformat": 4,
 "nbformat_minor": 4
}
