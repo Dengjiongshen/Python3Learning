{
 "cells": [
  {
   "cell_type": "code",
   "execution_count": 3,
   "metadata": {},
   "outputs": [
    {
     "name": "stdout",
     "output_type": "stream",
     "text": [
      "     a    b    c    d\n",
      "0  0.0  0.0  0.0  0.0\n",
      "1  0.0  0.0  0.0  0.0\n",
      "2  0.0  0.0  0.0  0.0\n",
      "     a    b    c    d\n",
      "0  1.0  1.0  1.0  1.0\n",
      "1  1.0  1.0  1.0  1.0\n",
      "2  1.0  1.0  1.0  1.0\n",
      "     a    b    c    d\n",
      "0  2.0  2.0  2.0  2.0\n",
      "1  2.0  2.0  2.0  2.0\n",
      "2  2.0  2.0  2.0  2.0\n"
     ]
    }
   ],
   "source": [
    "import pandas as pd\n",
    "import numpy as np\n",
    "\n",
    "#concatenating\n",
    "df1=pd.DataFrame(np.ones((3,4))*0,columns=['a','b','c','d'])\n",
    "df2=pd.DataFrame(np.ones((3,4))*1,columns=['a','b','c','d'])\n",
    "df3=pd.DataFrame(np.ones((3,4))*2,columns=['a','b','c','d'])\n",
    "\n",
    "print(df1)\n",
    "print(df2)\n",
    "print(df3)"
   ]
  },
  {
   "cell_type": "code",
   "execution_count": 5,
   "metadata": {},
   "outputs": [
    {
     "name": "stdout",
     "output_type": "stream",
     "text": [
      "     a    b    c    d\n",
      "0  0.0  0.0  0.0  0.0\n",
      "1  0.0  0.0  0.0  0.0\n",
      "2  0.0  0.0  0.0  0.0\n",
      "0  1.0  1.0  1.0  1.0\n",
      "1  1.0  1.0  1.0  1.0\n",
      "2  1.0  1.0  1.0  1.0\n",
      "0  2.0  2.0  2.0  2.0\n",
      "1  2.0  2.0  2.0  2.0\n",
      "2  2.0  2.0  2.0  2.0\n",
      "     a    b    c    d\n",
      "0  0.0  0.0  0.0  0.0\n",
      "1  0.0  0.0  0.0  0.0\n",
      "2  0.0  0.0  0.0  0.0\n",
      "3  1.0  1.0  1.0  1.0\n",
      "4  1.0  1.0  1.0  1.0\n",
      "5  1.0  1.0  1.0  1.0\n",
      "6  2.0  2.0  2.0  2.0\n",
      "7  2.0  2.0  2.0  2.0\n",
      "8  2.0  2.0  2.0  2.0\n"
     ]
    }
   ],
   "source": [
    "#用shape去记忆axis,要改变shape中哪一维的大小，axis就选几，numpy和pandas都一样\n",
    "#如原shape为（3，4），合并后为（6，4），改变第一个位置的值，所以axis=0\n",
    "#合并\n",
    "result=pd.concat([df1,df2,df3],axis=0) #合并，axis=0对行操作，行变多\n",
    "print(result) #行索引还是原来的没有变化\n",
    "\n",
    "result=pd.concat([df1,df2,df3],axis=0,ignore_index=True)\n",
    "print(result) #生成新的有序索引"
   ]
  },
  {
   "cell_type": "code",
   "execution_count": 14,
   "metadata": {},
   "outputs": [
    {
     "name": "stdout",
     "output_type": "stream",
     "text": [
      "     a    b    c    d\n",
      "1  0.0  0.0  0.0  0.0\n",
      "2  0.0  0.0  0.0  0.0\n",
      "3  0.0  0.0  0.0  0.0\n",
      "     c    d    e    f\n",
      "2  1.0  1.0  1.0  1.0\n",
      "3  1.0  1.0  1.0  1.0\n",
      "4  1.0  1.0  1.0  1.0\n",
      "     a    b    c    d    e    f\n",
      "1  0.0  0.0  0.0  0.0  NaN  NaN\n",
      "2  0.0  0.0  0.0  0.0  NaN  NaN\n",
      "3  0.0  0.0  0.0  0.0  NaN  NaN\n",
      "2  NaN  NaN  1.0  1.0  1.0  1.0\n",
      "3  NaN  NaN  1.0  1.0  1.0  1.0\n",
      "4  NaN  NaN  1.0  1.0  1.0  1.0\n",
      "     c    d\n",
      "0  0.0  0.0\n",
      "1  0.0  0.0\n",
      "2  0.0  0.0\n",
      "3  1.0  1.0\n",
      "4  1.0  1.0\n",
      "5  1.0  1.0\n"
     ]
    }
   ],
   "source": [
    "#concat()的一个参数，join,有两种形式，['inner','outer']\n",
    "df1=pd.DataFrame(np.ones((3,4))*0,columns=['a','b','c','d'],index=[1,2,3])\n",
    "df2=pd.DataFrame(np.ones((3,4))*1,columns=['c','d','e','f'],index=[2,3,4]) \n",
    "#df1和df2的行和列不完全一致,合并时用join可以很好的处理\n",
    "print(df1)\n",
    "print(df2)\n",
    "result1=pd.concat([df1,df2],join='outer') #合并后保留所有不重复的行和列，不存在的元素用NaN填充\n",
    "print(result1) #类似于并集\n",
    "\n",
    "result2=pd.concat([df1,df2],join='inner',ignore_index=True) #合并后保留共同的部分\n",
    "print(result2) #类似于交集\n",
    "\n",
    "#处理序号仍然可以用ignore_index=True"
   ]
  },
  {
   "cell_type": "code",
   "execution_count": 25,
   "metadata": {},
   "outputs": [
    {
     "name": "stdout",
     "output_type": "stream",
     "text": [
      "     a    b    c    d    e    f\n",
      "0  0.0  0.0  0.0  0.0  NaN  NaN\n",
      "1  0.0  0.0  0.0  0.0  NaN  NaN\n",
      "2  0.0  0.0  0.0  0.0  NaN  NaN\n",
      "3  NaN  NaN  1.0  1.0  1.0  1.0\n",
      "4  NaN  NaN  1.0  1.0  1.0  1.0\n",
      "5  NaN  NaN  1.0  1.0  1.0  1.0\n",
      "6  NaN  NaN  1.0  1.0  1.0  1.0\n",
      "7  NaN  NaN  1.0  1.0  1.0  1.0\n",
      "8  NaN  NaN  1.0  1.0  1.0  1.0\n",
      "     a    b    c    d\n",
      "0  0.0  0.0  0.0  0.0\n",
      "1  0.0  0.0  0.0  0.0\n",
      "2  0.0  0.0  0.0  0.0\n",
      "3  1.0  2.0  3.0  4.0\n"
     ]
    }
   ],
   "source": [
    "#append 添加一行（列）数据\n",
    "df1=pd.DataFrame(np.ones((3,4))*0,columns=['a','b','c','d'],index=[1,2,3])\n",
    "df2=pd.DataFrame(np.ones((3,4))*1,columns=['c','d','e','f'],index=[2,3,4]) \n",
    "result1=df1.append([df2,df2],ignore_index=True) #将两个df2接到df1后，竖着接\n",
    "print(result1)\n",
    "\n",
    "s=pd.Series([1,2,3,4],index=['a','b','c','d'])\n",
    "result=df1.append(s,ignore_index=True) #追加一行，而不是一个表\n",
    "print(result)"
   ]
  },
  {
   "cell_type": "code",
   "execution_count": null,
   "metadata": {},
   "outputs": [],
   "source": []
  }
 ],
 "metadata": {
  "kernelspec": {
   "display_name": "Python 3",
   "language": "python",
   "name": "python3"
  },
  "language_info": {
   "codemirror_mode": {
    "name": "ipython",
    "version": 3
   },
   "file_extension": ".py",
   "mimetype": "text/x-python",
   "name": "python",
   "nbconvert_exporter": "python",
   "pygments_lexer": "ipython3",
   "version": "3.7.6"
  }
 },
 "nbformat": 4,
 "nbformat_minor": 4
}
