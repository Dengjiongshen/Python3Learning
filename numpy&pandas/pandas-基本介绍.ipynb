{
 "cells": [
  {
   "cell_type": "code",
   "execution_count": 1,
   "metadata": {},
   "outputs": [
    {
     "name": "stdout",
     "output_type": "stream",
     "text": [
      "0     1.0\n",
      "1     3.0\n",
      "2     6.0\n",
      "3     NaN\n",
      "4    44.0\n",
      "5     1.0\n",
      "dtype: float64\n"
     ]
    }
   ],
   "source": [
    "#numpy：提供序列化好了的矩阵（序列）\n",
    "#pandas：类似于一个字典形式的numpy，若numpy是列表的话，pandas就相当于字典\n",
    "        #pandas可以给不同的行，不同的列命名\n",
    "import pandas as pd\n",
    "import numpy as np\n",
    "\n",
    "s=pd.Series([1,3,6,np.nan,44,1]) #定义一个序列，[]内是每个元素的值，默认浮点型\n",
    "print(s)"
   ]
  },
  {
   "cell_type": "code",
   "execution_count": 2,
   "metadata": {},
   "outputs": [
    {
     "name": "stdout",
     "output_type": "stream",
     "text": [
      "DatetimeIndex(['2020-03-19', '2020-03-20', '2020-03-21', '2020-03-22',\n",
      "               '2020-03-23'],\n",
      "              dtype='datetime64[ns]', freq='D')\n"
     ]
    }
   ],
   "source": [
    "dates=pd.date_range('20200319',periods=5) #从2020-03-19生成5个连续的日期序列\n",
    "print(dates)"
   ]
  },
  {
   "cell_type": "code",
   "execution_count": 43,
   "metadata": {},
   "outputs": [
    {
     "name": "stdout",
     "output_type": "stream",
     "text": [
      "   A          B    C  D      E     F\n",
      "0  1 2020-03-19  1.0  3   test  fool\n",
      "1  1 2020-03-19  1.0  3  train  fool\n",
      "2  1 2020-03-19  1.0  3   test  fool\n",
      "3  1 2020-03-19  1.0  3  train  fool\n",
      "A             int64\n",
      "B    datetime64[ns]\n",
      "C           float32\n",
      "D             int32\n",
      "E          category\n",
      "F            object\n",
      "dtype: object\n",
      "Int64Index([0, 1, 2, 3], dtype='int64')\n",
      "Index(['A', 'B', 'C', 'D', 'E', 'F'], dtype='object')\n",
      "[[1 Timestamp('2020-03-19 00:00:00') 1.0 3 'test' 'fool']\n",
      " [1 Timestamp('2020-03-19 00:00:00') 1.0 3 'train' 'fool']\n",
      " [1 Timestamp('2020-03-19 00:00:00') 1.0 3 'test' 'fool']\n",
      " [1 Timestamp('2020-03-19 00:00:00') 1.0 3 'train' 'fool']]\n"
     ]
    },
    {
     "data": {
      "text/html": [
       "<div>\n",
       "<style scoped>\n",
       "    .dataframe tbody tr th:only-of-type {\n",
       "        vertical-align: middle;\n",
       "    }\n",
       "\n",
       "    .dataframe tbody tr th {\n",
       "        vertical-align: top;\n",
       "    }\n",
       "\n",
       "    .dataframe thead th {\n",
       "        text-align: right;\n",
       "    }\n",
       "</style>\n",
       "<table border=\"1\" class=\"dataframe\">\n",
       "  <thead>\n",
       "    <tr style=\"text-align: right;\">\n",
       "      <th></th>\n",
       "      <th>A</th>\n",
       "      <th>B</th>\n",
       "      <th>C</th>\n",
       "      <th>D</th>\n",
       "      <th>E</th>\n",
       "      <th>F</th>\n",
       "    </tr>\n",
       "  </thead>\n",
       "  <tbody>\n",
       "    <tr>\n",
       "      <th>0</th>\n",
       "      <td>1</td>\n",
       "      <td>2020-03-19</td>\n",
       "      <td>1.0</td>\n",
       "      <td>3</td>\n",
       "      <td>test</td>\n",
       "      <td>fool</td>\n",
       "    </tr>\n",
       "    <tr>\n",
       "      <th>2</th>\n",
       "      <td>1</td>\n",
       "      <td>2020-03-19</td>\n",
       "      <td>1.0</td>\n",
       "      <td>3</td>\n",
       "      <td>test</td>\n",
       "      <td>fool</td>\n",
       "    </tr>\n",
       "    <tr>\n",
       "      <th>1</th>\n",
       "      <td>1</td>\n",
       "      <td>2020-03-19</td>\n",
       "      <td>1.0</td>\n",
       "      <td>3</td>\n",
       "      <td>train</td>\n",
       "      <td>fool</td>\n",
       "    </tr>\n",
       "    <tr>\n",
       "      <th>3</th>\n",
       "      <td>1</td>\n",
       "      <td>2020-03-19</td>\n",
       "      <td>1.0</td>\n",
       "      <td>3</td>\n",
       "      <td>train</td>\n",
       "      <td>fool</td>\n",
       "    </tr>\n",
       "  </tbody>\n",
       "</table>\n",
       "</div>"
      ],
      "text/plain": [
       "   A          B    C  D      E     F\n",
       "0  1 2020-03-19  1.0  3   test  fool\n",
       "2  1 2020-03-19  1.0  3   test  fool\n",
       "1  1 2020-03-19  1.0  3  train  fool\n",
       "3  1 2020-03-19  1.0  3  train  fool"
      ]
     },
     "execution_count": 43,
     "metadata": {},
     "output_type": "execute_result"
    }
   ],
   "source": [
    "#数据表 DataFrame\n",
    "df=pd.DataFrame(np.random.randn(5,4),index=dates,columns=['a','b','c','d']) \n",
    "#没有给行或列的名字时，pandas默认成0123...，如果给了，按照给定的排序\n",
    "#DataFrame是一个大的matrix,类似于一个二维numpy\n",
    "#np.random.random(6,4)其实就是numpy的数据\n",
    "#index是行索引,columns是列索引\n",
    "df\n",
    "\n",
    "df1=pd.DataFrame(np.arange(12).reshape(3,4))\n",
    "df1\n",
    "\n",
    "#用字典生成DataFrame,字典中的一对key和value表示一列\n",
    "df2=pd.DataFrame({'A':1,\n",
    "                 'B':pd.Timestamp('20200319'),\n",
    "                 'C':pd.Series(1,index=list(range(4)),dtype='float32'),\n",
    "                 'D':np.array([3]*4,dtype='int32'),\n",
    "                 'E':pd.Categorical([\"test\",\"train\",\"test\",\"train\"]),\n",
    "                 'F':'fool'})\n",
    "print(df2)\n",
    "print(df2.dtypes) #返回每一列的类型\n",
    "\n",
    "print(df2.index) #返回所有行的序号\n",
    "print(df2.columns) #返回所有列的名称\n",
    "print(df2.values) #返回DataFrame中的所有值\n",
    "\n",
    "df2.describe() #描述DataFrame,如均值，最大值，最小值等\n",
    "#只能计算数值型，所以字符型都自动忽略\n",
    "\n",
    "df2.T #将df2视为矩阵，进行转置\n",
    "\n",
    "df2.sort_index(axis=0,ascending=False) \n",
    "#排序函数此时用sort_index(),但与上文行索引index无关联\n",
    "#axis=0，对行操作（行动），axis=1,对列操作（列动）\n",
    "#ascending=False表示倒序\n",
    "\n",
    "df2.sort_values(by='E') #根据表格中的值进行排序，根据'E'列的值进行排序"
   ]
  },
  {
   "cell_type": "code",
   "execution_count": null,
   "metadata": {},
   "outputs": [],
   "source": []
  }
 ],
 "metadata": {
  "kernelspec": {
   "display_name": "Python 3",
   "language": "python",
   "name": "python3"
  },
  "language_info": {
   "codemirror_mode": {
    "name": "ipython",
    "version": 3
   },
   "file_extension": ".py",
   "mimetype": "text/x-python",
   "name": "python",
   "nbconvert_exporter": "python",
   "pygments_lexer": "ipython3",
   "version": "3.7.6"
  }
 },
 "nbformat": 4,
 "nbformat_minor": 4
}
