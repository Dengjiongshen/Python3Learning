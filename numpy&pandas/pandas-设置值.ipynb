{
 "cells": [
  {
   "cell_type": "code",
   "execution_count": 8,
   "metadata": {},
   "outputs": [
    {
     "name": "stdout",
     "output_type": "stream",
     "text": [
      "            A  B  C  D\n",
      "2020-03-19  0  1  2  3\n",
      "2020-03-20  4  5  6  7\n",
      "2020-03-21  1  1  1  1\n",
      "2020-03-22  1  1  1  1\n",
      "2020-03-23  1  1  1  1\n",
      "2020-03-24  1  1  1  1\n"
     ]
    }
   ],
   "source": [
    "import pandas as pd\n",
    "import numpy as np\n",
    "\n",
    "dates=pd.date_range('20200319',periods=6)\n",
    "df=pd.DataFrame(np.arange(24).reshape((6,4)),index=dates,columns=['A','B','C','D'])\n",
    "\n",
    "df.iloc[2,2]=111 #根据iloc(位置) 将第3行第3列的数改为111\n",
    "df.loc['20200322','B']=3435 #根据loc(名称label)\n",
    "\n",
    "df[df.A>4]=1 #A列大于4的元素所在的行，值都改为1\n",
    "\n",
    "print(df)"
   ]
  },
  {
   "cell_type": "code",
   "execution_count": 11,
   "metadata": {},
   "outputs": [
    {
     "name": "stdout",
     "output_type": "stream",
     "text": [
      "            A  B  C  D\n",
      "2020-03-19  2  1  2  3\n",
      "2020-03-20  4  5  6  7\n",
      "2020-03-21  2  1  1  1\n",
      "2020-03-22  2  1  1  1\n",
      "2020-03-23  2  1  1  1\n",
      "2020-03-24  2  1  1  1\n"
     ]
    }
   ],
   "source": [
    "df.A[df.A<4]=2 #找到A列中小于4的元素所在的行，A列里元素都改为2（.A表示只修改A，其他地方不动）\n",
    "print(df)"
   ]
  },
  {
   "cell_type": "code",
   "execution_count": 12,
   "metadata": {},
   "outputs": [
    {
     "name": "stdout",
     "output_type": "stream",
     "text": [
      "            A  B  C  D\n",
      "2020-03-19  2  3  2  3\n",
      "2020-03-20  4  5  6  7\n",
      "2020-03-21  2  3  1  1\n",
      "2020-03-22  2  3  1  1\n",
      "2020-03-23  2  3  1  1\n",
      "2020-03-24  2  3  1  1\n"
     ]
    }
   ],
   "source": [
    "df.B[df.A<4]=3 #找到A列中小于4的元素所在的行，B列里元素都改为3（.B表示只修改A，其他地方不动）\n",
    "print(df)"
   ]
  },
  {
   "cell_type": "code",
   "execution_count": 13,
   "metadata": {},
   "outputs": [
    {
     "name": "stdout",
     "output_type": "stream",
     "text": [
      "            A  B  C  D   F\n",
      "2020-03-19  2  3  2  3 NaN\n",
      "2020-03-20  4  5  6  7 NaN\n",
      "2020-03-21  2  3  1  1 NaN\n",
      "2020-03-22  2  3  1  1 NaN\n",
      "2020-03-23  2  3  1  1 NaN\n",
      "2020-03-24  2  3  1  1 NaN\n"
     ]
    }
   ],
   "source": [
    "df['F']=np.nan\n",
    "#新添加了F列，所有值都是NaN\n",
    "#之后再根据某行某列等方法，将F列的值一个一个输入\n",
    "print(df)"
   ]
  },
  {
   "cell_type": "code",
   "execution_count": 16,
   "metadata": {},
   "outputs": [
    {
     "name": "stdout",
     "output_type": "stream",
     "text": [
      "            A  B  C  D   F  E\n",
      "2020-03-19  2  3  2  3 NaN  1\n",
      "2020-03-20  4  5  6  7 NaN  2\n",
      "2020-03-21  2  3  1  1 NaN  3\n",
      "2020-03-22  2  3  1  1 NaN  4\n",
      "2020-03-23  2  3  1  1 NaN  5\n",
      "2020-03-24  2  3  1  1 NaN  6\n"
     ]
    }
   ],
   "source": [
    "df['E']=pd.Series([1,2,3,4,5,6],index=pd.date_range('20200319',periods=6))\n",
    "#添加列的同时指定值\n",
    "print(df)"
   ]
  },
  {
   "cell_type": "code",
   "execution_count": null,
   "metadata": {},
   "outputs": [],
   "source": []
  }
 ],
 "metadata": {
  "kernelspec": {
   "display_name": "Python 3",
   "language": "python",
   "name": "python3"
  },
  "language_info": {
   "codemirror_mode": {
    "name": "ipython",
    "version": 3
   },
   "file_extension": ".py",
   "mimetype": "text/x-python",
   "name": "python",
   "nbconvert_exporter": "python",
   "pygments_lexer": "ipython3",
   "version": "3.7.6"
  }
 },
 "nbformat": 4,
 "nbformat_minor": 4
}
