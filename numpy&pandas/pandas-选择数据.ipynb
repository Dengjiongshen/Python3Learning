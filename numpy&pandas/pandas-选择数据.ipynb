{
 "cells": [
  {
   "cell_type": "code",
   "execution_count": 14,
   "metadata": {},
   "outputs": [
    {
     "name": "stdout",
     "output_type": "stream",
     "text": [
      "             A   B   C   D\n",
      "2020-03-19   0   1   2   3\n",
      "2020-03-20   4   5   6   7\n",
      "2020-03-21   8   9  10  11\n",
      "2020-03-22  12  13  14  15\n",
      "2020-03-23  16  17  18  19\n",
      "2020-03-24  20  21  22  23\n",
      "2020-03-19     0\n",
      "2020-03-20     4\n",
      "2020-03-21     8\n",
      "2020-03-22    12\n",
      "2020-03-23    16\n",
      "2020-03-24    20\n",
      "Freq: D, Name: A, dtype: int32\n",
      "2020-03-19     0\n",
      "2020-03-20     4\n",
      "2020-03-21     8\n",
      "2020-03-22    12\n",
      "2020-03-23    16\n",
      "2020-03-24    20\n",
      "Freq: D, Name: A, dtype: int32\n",
      "            A  B   C   D\n",
      "2020-03-19  0  1   2   3\n",
      "2020-03-20  4  5   6   7\n",
      "2020-03-21  8  9  10  11\n",
      "             A   B   C   D\n",
      "2020-03-20   4   5   6   7\n",
      "2020-03-21   8   9  10  11\n",
      "2020-03-22  12  13  14  15\n",
      "2020-03-23  16  17  18  19\n",
      "A    12\n",
      "B    13\n",
      "C    14\n",
      "D    15\n",
      "Name: 2020-03-22 00:00:00, dtype: int32\n",
      "             A   B\n",
      "2020-03-19   0   1\n",
      "2020-03-20   4   5\n",
      "2020-03-21   8   9\n",
      "2020-03-22  12  13\n",
      "2020-03-23  16  17\n",
      "2020-03-24  20  21\n",
      "A    12\n",
      "B    13\n",
      "Name: 2020-03-22 00:00:00, dtype: int32\n"
     ]
    }
   ],
   "source": [
    "import pandas as pd\n",
    "import numpy as np\n",
    "\n",
    "dates=pd.date_range('20200319',periods=6)\n",
    "df=pd.DataFrame(np.arange(24).reshape((6,4)),index=dates,columns=['A','B','C','D'])\n",
    "\n",
    "print(df)\n",
    "\n",
    "#选择特定的某一列\n",
    "print(df['A'])\n",
    "print(df.A)\n",
    "\n",
    "#按照切片进行选择\n",
    "print(df[0:3]) #选取0到3行\n",
    "print(df['20200320':'20200323']) #选取‘20200320’到‘20200323’列\n",
    "\n",
    "#更高级的方法select by label:loc根据标签(行名和列名)进行选择\n",
    "print(df.loc['20200322'])\n",
    "print(df.loc[:,['A','B']]) #保留所有行，列选取'A'和'B'\n",
    "print(df.loc['20200322',['A','B']])"
   ]
  },
  {
   "cell_type": "code",
   "execution_count": 18,
   "metadata": {},
   "outputs": [
    {
     "name": "stdout",
     "output_type": "stream",
     "text": [
      "A    12\n",
      "B    13\n",
      "C    14\n",
      "D    15\n",
      "Name: 2020-03-22 00:00:00, dtype: int32\n",
      "13\n",
      "             B   C\n",
      "2020-03-21   9  10\n",
      "2020-03-22  13  14\n",
      "             B   C\n",
      "2020-03-20   5   6\n",
      "2020-03-22  13  14\n",
      "2020-03-24  21  22\n"
     ]
    }
   ],
   "source": [
    "#select by position:iloc根据位置(第几行第几列)进行选择\n",
    "print(df.iloc[3]) #选择第四行的数据\n",
    "print(df.iloc[3,1]) #第4行，第2列\n",
    "print(df.iloc[2:4,1:3]) #第3行到第4行，第2列到第3列 \n",
    "#！！！x:y,起始值是x,但终点值是y-1\n",
    "print(df.iloc[[1,3,5],1:3]) #不连续的选取"
   ]
  },
  {
   "cell_type": "code",
   "execution_count": 24,
   "metadata": {},
   "outputs": [
    {
     "name": "stdout",
     "output_type": "stream",
     "text": [
      "             A   B   C   D\n",
      "2020-03-19   0   1   2   3\n",
      "2020-03-20   4   5   6   7\n",
      "2020-03-21   8   9  10  11\n",
      "2020-03-22  12  13  14  15\n",
      "2020-03-23  16  17  18  19\n",
      "2020-03-24  20  21  22  23\n",
      "            A  B  C  D\n",
      "2020-03-19  0  1  2  3\n",
      "2020-03-20  4  5  6  7\n",
      "            A  B  C  D\n",
      "2020-03-20  4  5  6  7\n"
     ]
    },
    {
     "name": "stderr",
     "output_type": "stream",
     "text": [
      "C:\\Users\\lenovo\\anaconda3\\lib\\site-packages\\ipykernel_launcher.py:4: UserWarning: Boolean Series key will be reindexed to match DataFrame index.\n",
      "  after removing the cwd from sys.path.\n"
     ]
    }
   ],
   "source": [
    "#Boolean indexing\n",
    "print(df)\n",
    "print(df[df.A<8]) #列名为A的列中，<8的数被输出来\n",
    "print(df[df.A<8][df.B>4])"
   ]
  },
  {
   "cell_type": "code",
   "execution_count": null,
   "metadata": {},
   "outputs": [],
   "source": []
  }
 ],
 "metadata": {
  "kernelspec": {
   "display_name": "Python 3",
   "language": "python",
   "name": "python3"
  },
  "language_info": {
   "codemirror_mode": {
    "name": "ipython",
    "version": 3
   },
   "file_extension": ".py",
   "mimetype": "text/x-python",
   "name": "python",
   "nbconvert_exporter": "python",
   "pygments_lexer": "ipython3",
   "version": "3.7.6"
  }
 },
 "nbformat": 4,
 "nbformat_minor": 4
}
