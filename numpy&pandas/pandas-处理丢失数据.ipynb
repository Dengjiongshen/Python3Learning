{
 "cells": [
  {
   "cell_type": "code",
   "execution_count": 3,
   "metadata": {},
   "outputs": [
    {
     "name": "stdout",
     "output_type": "stream",
     "text": [
      "             A     B     C   D\n",
      "2020-03-19   0   NaN   2.0   3\n",
      "2020-03-20   4   5.0   NaN   7\n",
      "2020-03-21   8   9.0  10.0  11\n",
      "2020-03-22  12  13.0  14.0  15\n",
      "2020-03-23  16  17.0  18.0  19\n",
      "2020-03-24  20  21.0  22.0  23\n",
      "             A     B     C   D\n",
      "2020-03-21   8   9.0  10.0  11\n",
      "2020-03-22  12  13.0  14.0  15\n",
      "2020-03-23  16  17.0  18.0  19\n",
      "2020-03-24  20  21.0  22.0  23\n"
     ]
    }
   ],
   "source": [
    "import pandas as pd\n",
    "import numpy as np\n",
    "\n",
    "dates=pd.date_range('20200319',periods=6)\n",
    "df=pd.DataFrame(np.arange(24).reshape((6,4)),index=dates,columns=['A','B','C','D'])\n",
    "df.iloc[0,1]=np.nan #假设丢失掉的数据\n",
    "df.iloc[1,2]=np.nan\n",
    "\n",
    "print(df)\n",
    "\n",
    "#丢弃 drop\n",
    "print(df.dropna(axis=0,how='any')) #任何一行有NaN都被丢弃\n",
    "#axis=0丢掉行，axis=1丢掉列\n",
    "#how={'any'（默认）,'all'} all表示一行（列）所有数据都是NaN时，才会被丢弃"
   ]
  },
  {
   "cell_type": "code",
   "execution_count": 6,
   "metadata": {},
   "outputs": [
    {
     "name": "stdout",
     "output_type": "stream",
     "text": [
      "             A     B     C   D\n",
      "2020-03-19   0   0.0   2.0   3\n",
      "2020-03-20   4   5.0   0.0   7\n",
      "2020-03-21   8   9.0  10.0  11\n",
      "2020-03-22  12  13.0  14.0  15\n",
      "2020-03-23  16  17.0  18.0  19\n",
      "2020-03-24  20  21.0  22.0  23\n"
     ]
    }
   ],
   "source": [
    "#填充 fill\n",
    "print(df.fillna(value=0)) #NaN用0填入"
   ]
  },
  {
   "cell_type": "code",
   "execution_count": 8,
   "metadata": {},
   "outputs": [
    {
     "name": "stdout",
     "output_type": "stream",
     "text": [
      "                A      B      C      D\n",
      "2020-03-19  False   True  False  False\n",
      "2020-03-20  False  False   True  False\n",
      "2020-03-21  False  False  False  False\n",
      "2020-03-22  False  False  False  False\n",
      "2020-03-23  False  False  False  False\n",
      "2020-03-24  False  False  False  False\n",
      "True\n"
     ]
    }
   ],
   "source": [
    "#判断数据有没有缺失\n",
    "print(df.isnull()) #缺失返回True\n",
    "#当表格很大，很难找到哪里有True时\n",
    "print(np.any(df.isnull())==True) #，返回False表示没有丢失，返回True表示该表格中至少有一个数据丢失\n"
   ]
  },
  {
   "cell_type": "code",
   "execution_count": null,
   "metadata": {},
   "outputs": [],
   "source": []
  }
 ],
 "metadata": {
  "kernelspec": {
   "display_name": "Python 3",
   "language": "python",
   "name": "python3"
  },
  "language_info": {
   "codemirror_mode": {
    "name": "ipython",
    "version": 3
   },
   "file_extension": ".py",
   "mimetype": "text/x-python",
   "name": "python",
   "nbconvert_exporter": "python",
   "pygments_lexer": "ipython3",
   "version": "3.7.6"
  }
 },
 "nbformat": 4,
 "nbformat_minor": 4
}
