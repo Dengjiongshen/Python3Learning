{
 "cells": [
  {
   "cell_type": "code",
   "execution_count": 2,
   "metadata": {},
   "outputs": [
    {
     "name": "stdout",
     "output_type": "stream",
     "text": [
      "[10 20 30 40] [0 1 2 3]\n",
      "[10 19 28 37]\n"
     ]
    }
   ],
   "source": [
    "import numpy as np\n",
    "a=np.array([10,20,30,40])\n",
    "b=np.arange(4)\n",
    "print(a,b)\n",
    "c=a-b #矩阵减法\n",
    "print(c)"
   ]
  },
  {
   "cell_type": "code",
   "execution_count": 2,
   "metadata": {},
   "outputs": [
    {
     "name": "stdout",
     "output_type": "stream",
     "text": [
      "[10 21 32 43]\n"
     ]
    }
   ],
   "source": [
    "c=a+b #矩阵加法\n",
    "print(c)"
   ]
  },
  {
   "cell_type": "code",
   "execution_count": 3,
   "metadata": {},
   "outputs": [
    {
     "name": "stdout",
     "output_type": "stream",
     "text": [
      "[0 1 4 9]\n"
     ]
    }
   ],
   "source": [
    "c=b**2 #在Python中平方、次方用**\n",
    "print(c)"
   ]
  },
  {
   "cell_type": "code",
   "execution_count": 4,
   "metadata": {},
   "outputs": [
    {
     "name": "stdout",
     "output_type": "stream",
     "text": [
      "[-5.44021111  9.12945251 -9.88031624  7.4511316 ]\n"
     ]
    }
   ],
   "source": [
    "c=10*np.sin(a) #三角函数，通过调用numpy中的函数\n",
    "print(c)"
   ]
  },
  {
   "cell_type": "code",
   "execution_count": 6,
   "metadata": {},
   "outputs": [
    {
     "name": "stdout",
     "output_type": "stream",
     "text": [
      "[0 1 2 3]\n",
      "[ True  True  True False]\n"
     ]
    }
   ],
   "source": [
    "print(b)\n",
    "print(b<3) #判断b中哪些值是小于3的，返回元素为布尔型的列表"
   ]
  },
  {
   "cell_type": "code",
   "execution_count": 7,
   "metadata": {},
   "outputs": [
    {
     "name": "stdout",
     "output_type": "stream",
     "text": [
      "[[1 1]\n",
      " [0 1]]\n",
      "[[0 1]\n",
      " [2 3]]\n"
     ]
    }
   ],
   "source": [
    "a=np.array([[1,1],[0,1]])\n",
    "b=np.arange(4).reshape((2,2))\n",
    "print(a)\n",
    "print(b)"
   ]
  },
  {
   "cell_type": "code",
   "execution_count": 9,
   "metadata": {},
   "outputs": [
    {
     "name": "stdout",
     "output_type": "stream",
     "text": [
      "[[0 1]\n",
      " [0 3]]\n",
      "[[2 4]\n",
      " [2 3]]\n",
      "[[2 4]\n",
      " [2 3]]\n"
     ]
    }
   ],
   "source": [
    "c=a*b #逐位相乘\n",
    "print(c)\n",
    "\n",
    "c_dot=np.dot(a,b)\n",
    "c_dot1=a.dot(b)\n",
    "print(c_dot) #矩阵相乘\n",
    "print(c_dot1) #另一种写法"
   ]
  },
  {
   "cell_type": "code",
   "execution_count": 13,
   "metadata": {},
   "outputs": [
    {
     "name": "stdout",
     "output_type": "stream",
     "text": [
      "[[0.03021769 0.2205137  0.71329625 0.13152101]\n",
      " [0.24729601 0.37339794 0.16424974 0.1769258 ]]\n",
      "2.057418144568723\n",
      "0.03021768837981753\n",
      "0.7132962510835831\n",
      "[1.09554865 0.9618695 ]\n",
      "[0.2775137  0.59391164 0.877546   0.30844681]\n"
     ]
    }
   ],
   "source": [
    "a=np.random.random((2,4)) #随机创建一个2行4列的矩阵\n",
    "print(a)\n",
    "print(np.sum(a)) #矩阵所有元素之和\n",
    "print(np.min(a)) #矩阵最小元素\n",
    "print(np.max(a)) #矩阵最大元素\n",
    "\n",
    "print(np.sum(a,axis=1)) #axis表示维度，axis=1对行求和\n",
    "print(np.sum(a,axis=0)) #axis=0对列求和\n",
    "#关于axis这个属性的定义是基于数组.shape 的这个属性,\n",
    "#它是一个Python元组,对于二维数组而言,axis=0表示这个元组的第一个元素,axis=1表示第二个元素.\n",
    "#假如这个数组是三维数组,axis=0代表的是第一个维度也就是页,axis=1,表示的是行,axis=2表示列"
   ]
  },
  {
   "cell_type": "code",
   "execution_count": 29,
   "metadata": {},
   "outputs": [
    {
     "name": "stdout",
     "output_type": "stream",
     "text": [
      "[[ 2  3  4  5]\n",
      " [ 6  7  8  9]\n",
      " [10 11 12 13]]\n",
      "0\n",
      "11\n",
      "7.5\n",
      "7.5\n",
      "7.5\n",
      "7.5\n",
      "[ 2  5  9 14 20 27 35 44 54 65 77 90]\n",
      "[[1 1 1]\n",
      " [1 1 1]\n",
      " [1 1 1]]\n",
      "(array([0, 0, 0, 0, 1, 1, 1, 1, 2, 2, 2, 2], dtype=int64), array([0, 1, 2, 3, 0, 1, 2, 3, 0, 1, 2, 3], dtype=int64))\n",
      "[[ 2  3  4  5]\n",
      " [ 6  7  8  9]\n",
      " [10 11 12 13]]\n",
      "[[ 2  6 10]\n",
      " [ 3  7 11]\n",
      " [ 4  8 12]\n",
      " [ 5  9 13]]\n",
      "[[ 2  6 10]\n",
      " [ 3  7 11]\n",
      " [ 4  8 12]\n",
      " [ 5  9 13]]\n",
      "[[140 158 176 194]\n",
      " [158 179 200 221]\n",
      " [176 200 224 248]\n",
      " [194 221 248 275]]\n",
      "[[5 5 5 5]\n",
      " [6 7 8 9]\n",
      " [9 9 9 9]]\n",
      "[6. 7. 8. 9.]\n",
      "[ 3.5  7.5 11.5]\n"
     ]
    }
   ],
   "source": [
    "A=np.arange(2,14).reshape((3,4))\n",
    "print(A)\n",
    "print(np.argmin(A)) #搜索最小值的索引\n",
    "print(np.argmax(A)) #搜索最大值的索引\n",
    "print(np.mean(A)) #矩阵平均值\n",
    "print(A.mean()) #矩阵平均值另一种方法\n",
    "print(np.average(A)) #矩阵加权平均值，尽量用mean()\n",
    "print(np.median(A)) #矩阵中位数\n",
    "print(np.cumsum(A)) #累加，结果元素个数与A相同，第二个数是A前两个值想加，第k个数是A前k个数相加\n",
    "print(np.diff(A)) #累差，A是3*4，累差结果为3*3，相邻两个数之间的差\n",
    "\n",
    "print(np.nonzero(A)) #返回非零数的索引，第一个array表示行,第二个array表示列\n",
    "\n",
    "print(np.sort(A)) #矩阵逐行排序\n",
    "\n",
    "print(np.transpose(A)) #矩阵转置\n",
    "print(A.T) #矩阵转置另一种方法\n",
    "print((A.T).dot(A)) #矩阵乘法示例\n",
    "\n",
    "print(np.clip(A,5,9)) #滤波，在A中，比5小的数都变成5，比9大的数都变成9，5-9的数保留\n",
    "\n",
    "print(np.mean(A,axis=0)) #axis=0对列求均值\n",
    "print(np.mean(A,axis=1)) #axis=1对行求均值\n"
   ]
  },
  {
   "cell_type": "code",
   "execution_count": null,
   "metadata": {},
   "outputs": [],
   "source": []
  }
 ],
 "metadata": {
  "kernelspec": {
   "display_name": "Python 3",
   "language": "python",
   "name": "python3"
  },
  "language_info": {
   "codemirror_mode": {
    "name": "ipython",
    "version": 3
   },
   "file_extension": ".py",
   "mimetype": "text/x-python",
   "name": "python",
   "nbconvert_exporter": "python",
   "pygments_lexer": "ipython3",
   "version": "3.7.6"
  }
 },
 "nbformat": 4,
 "nbformat_minor": 4
}
